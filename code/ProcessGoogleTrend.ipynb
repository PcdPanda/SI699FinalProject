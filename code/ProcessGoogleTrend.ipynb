{
 "cells": [
  {
   "cell_type": "code",
   "execution_count": 1,
   "metadata": {},
   "outputs": [],
   "source": [
    "import pandas as pd"
   ]
  },
  {
   "cell_type": "code",
   "execution_count": 5,
   "metadata": {},
   "outputs": [],
   "source": [
    "df = list()\n",
    "for keyword in [\"Derailment\", \"EastPalestine\", \"VinylChloride\"]:\n",
    "    for i, date in enumerate(pd.date_range(\"20230203\", \"20230306\")):\n",
    "        i += 1\n",
    "        dt = date.strftime(\"%Y-%m-%d\")\n",
    "        path = f\"../data/GoogleTrend/{keyword}/geoMap/{dt}_geoMap-{i}.csv\"\n",
    "        with open(path, \"r\") as f:\n",
    "            data = f.read().split(\"\\n\")[3:]\n",
    "            for row in data:\n",
    "                row = row.split(\",\")\n",
    "                value = row[-1]\n",
    "                geo = \",\".join(row[:-1]).replace(\"\\\"\", \"\").split(\" \")\n",
    "                if not value.isdigit():\n",
    "                    break\n",
    "                city = \" \".join(geo[:-1])\n",
    "                state = geo[-1]\n",
    "                df.append({\"Date\": date.strftime(\"%Y%m%d\"), \"Keyword\": keyword, \"City\": city, \"State\": state, \"Value\": value})\n",
    "df = pd.DataFrame(df).set_index([\"Date\"])"
   ]
  },
  {
   "cell_type": "code",
   "execution_count": 7,
   "metadata": {},
   "outputs": [],
   "source": [
    "df.to_csv(\"../data/GoogleTrendGeo.csv\", index_label=\"Date\", sep=\"\\t\")"
   ]
  }
 ],
 "metadata": {
  "kernelspec": {
   "display_name": "699",
   "language": "python",
   "name": "python3"
  },
  "language_info": {
   "codemirror_mode": {
    "name": "ipython",
    "version": 3
   },
   "file_extension": ".py",
   "mimetype": "text/x-python",
   "name": "python",
   "nbconvert_exporter": "python",
   "pygments_lexer": "ipython3",
   "version": "3.8.5"
  },
  "orig_nbformat": 4
 },
 "nbformat": 4,
 "nbformat_minor": 2
}
