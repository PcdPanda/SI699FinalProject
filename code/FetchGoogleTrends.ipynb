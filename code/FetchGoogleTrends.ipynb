{
 "cells": [
  {
   "cell_type": "code",
   "execution_count": 3,
   "metadata": {},
   "outputs": [],
   "source": [
    "import pandas as pd\n",
    "from pytrends.request import TrendReq as UTrendReq\n",
    "\n",
    "kw_list = [\"Derailment\", \"Vinyl chloride\", \"East Palestine\"]\n",
    "headers = {\n",
    "    'authority': 'trends.google.com',\n",
    "    'accept': 'text/html,application/xhtml+xml,application/xml;q=0.9,image/webp,image/apng,*/*;q=0.8,application/signed-exchange;v=b3;q=0.7',\n",
    "    'accept-language': 'en-US,en;q=0.9,zh-CN;q=0.8,zh;q=0.7',\n",
    "    # 'cookie': '__utmc=10102256; __utma=10102256.1777838012.1676470743.1678414362.1678417940.4; __utmz=10102256.1678417940.4.4.utmcsr=trends.google.com|utmccn=(referral)|utmcmd=referral|utmcct=/; __utmt=1; __utmb=10102256.2.9.1678417983172; SEARCH_SAMESITE=CgQIgJcB; OGP=-19026792:-19008535:-19010599:-19033690:; OGPC=19026792-1:19010599-12:19008535-2:19033690-2:19031986-1:; HSID=A7_reUAN6CLihBBMW; SSID=AvQWJy-HEnk-YZXP7; APISID=wwIyumhVCdb4qFdX/A9pcjOdLz1N4kES-K; SAPISID=IqE73ju0W3jMY-Mn/AJVPHaCc474Z_PYNH; __Secure-1PAPISID=IqE73ju0W3jMY-Mn/AJVPHaCc474Z_PYNH; __Secure-3PAPISID=IqE73ju0W3jMY-Mn/AJVPHaCc474Z_PYNH; SID=TwiPCPpepKtnehVHHInCOmMFLSZgI5wHidz-lYK9_Y4d0F3zWa-sJZTHMQT9zKbSjMRyLw.; __Secure-1PSID=TwiPCPpepKtnehVHHInCOmMFLSZgI5wHidz-lYK9_Y4d0F3zzsqomr2NprEvS6dNfGbVqA.; __Secure-3PSID=TwiPCPpepKtnehVHHInCOmMFLSZgI5wHidz-lYK9_Y4d0F3zfYDgVIPCX_09AvkxCbRDMQ.; AEC=ARSKqsJUX6AVDOfzDvu8mo7ndc1TstA9-GJYVEUx1y6ZCQqwTw5xmHf2BA; _gid=GA1.3.870387498.1678414258; OTZ=6935171_76_76_104100_72_446760; 1P_JAR=2023-03-10-03; NID=511=Zg24SDXKuN92KPOm-6RwI4e73YnjnuXCqyQ8kxvJIeGa0lWI69PgLrGqQUMK-ldi7ZpsmV7AhWJFor7FzQ6a7ti5o1HGWc0lSgkaa-FsLyulJINwlzh63QYFkppCBJydr8NgboQARvnLDqFuqpykwHV0pXFWznmS_MzgmcFT1J1iKX1AsB2Ib3dTYLxWoj-hcXvRHQQWXheoIeCnNT2GatdkxRT0z-MOfQPo6hRXoFH0wafdTvaZUiOxND1cPze1ZPezokk7GFGknCPMcBG-A9vt1h8wW-gdJb42q9gvmhZnjHmTPeaoeyfsBYWNt5dLwHD_lSdGmIP3SFBCykbq9tC17SKB21Xab4looWaBEIzpQ5nnHrwMkUjt_w; _gat_gtag_UA_4401283=1; _ga=GA1.3.1777838012.1676470743; SIDCC=AFvIBn94DEv7V5yEi5qhHJ7HJxXT01HgrjGAwgaXj8dx8cU5Sukcxal8Guqf-TBbvjnoDPyCrg; __Secure-1PSIDCC=AFvIBn8fCqywdhYZK06muzIhDrmVs-vpyrIvH7omOaw5hC-SDrewPRtnwQYRZZ-8x3vA5FPMCg; __Secure-3PSIDCC=AFvIBn8VG8IYHlVV__TXxGglD-PW_nGFPCy3gnEtitd2nwk6JmJUbhqJGMPxyA_2lItTPTUzKLBo; _ga_VWZPXDNJJB=GS1.1.1678417864.4.1.1678417997.0.0.0',\n",
    "    'referer': 'https://trends.google.com/',\n",
    "    'sec-ch-ua': '\"Chromium\";v=\"110\", \"Not A(Brand\";v=\"24\", \"Microsoft Edge\";v=\"110\"',\n",
    "    'sec-ch-ua-arch': '\"x86\"',\n",
    "    'sec-ch-ua-bitness': '\"64\"',\n",
    "    'sec-ch-ua-full-version': '\"110.0.1587.63\"',\n",
    "    'sec-ch-ua-full-version-list': '\"Chromium\";v=\"110.0.5481.178\", \"Not A(Brand\";v=\"24.0.0.0\", \"Microsoft Edge\";v=\"110.0.1587.63\"',\n",
    "    'sec-ch-ua-mobile': '?0',\n",
    "    'sec-ch-ua-model': '\"\"',\n",
    "    'sec-ch-ua-platform': '\"Windows\"',\n",
    "    'sec-ch-ua-platform-version': '\"15.0.0\"',\n",
    "    'sec-ch-ua-wow64': '?0',\n",
    "    'sec-fetch-dest': 'document',\n",
    "    'sec-fetch-mode': 'navigate',\n",
    "    'sec-fetch-site': 'same-origin',\n",
    "    'sec-fetch-user': '?1',\n",
    "    'upgrade-insecure-requests': '1',\n",
    "    'user-agent': 'Mozilla/5.0 (Windows NT 10.0; Win64; x64) AppleWebKit/537.36 (KHTML, like Gecko) Chrome/110.0.0.0 Safari/537.36 Edg/110.0.1587.63',\n",
    "}\n",
    "\n",
    "class TrendReq(UTrendReq):\n",
    "    def _get_data(self, url, method=\"get\", trim_chars=0, **kwargs):\n",
    "        return super()._get_data(url, method=method, trim_chars=trim_chars, headers=headers, **kwargs)\n"
   ]
  },
  {
   "cell_type": "code",
   "execution_count": 4,
   "metadata": {},
   "outputs": [
    {
     "name": "stdout",
     "output_type": "stream",
     "text": [
      "2023-02-06 2023-02-07\n"
     ]
    },
    {
     "ename": "TooManyRequestsError",
     "evalue": "The request failed: Google returned a response with code 429",
     "output_type": "error",
     "traceback": [
      "\u001b[0;31m---------------------------------------------------------------------------\u001b[0m",
      "\u001b[0;31mTooManyRequestsError\u001b[0m                      Traceback (most recent call last)",
      "\u001b[1;32m/home/panda/SI699/FinalProject/code/FetchGoogleTrends.ipynb 单元格 2\u001b[0m in \u001b[0;36m<cell line: 4>\u001b[0;34m()\u001b[0m\n\u001b[1;32m      <a href='vscode-notebook-cell://wsl%2Bubuntu-20.04/home/panda/SI699/FinalProject/code/FetchGoogleTrends.ipynb#W2sdnNjb2RlLXJlbW90ZQ%3D%3D?line=5'>6</a>\u001b[0m end_time \u001b[39m=\u001b[39m (date \u001b[39m+\u001b[39m pd\u001b[39m.\u001b[39mTimedelta(\u001b[39m1\u001b[39m, \u001b[39m\"\u001b[39m\u001b[39mday\u001b[39m\u001b[39m\"\u001b[39m))\u001b[39m.\u001b[39mstrftime(\u001b[39m\"\u001b[39m\u001b[39m%\u001b[39m\u001b[39mY-\u001b[39m\u001b[39m%\u001b[39m\u001b[39mm-\u001b[39m\u001b[39m%d\u001b[39;00m\u001b[39m\"\u001b[39m)\n\u001b[1;32m      <a href='vscode-notebook-cell://wsl%2Bubuntu-20.04/home/panda/SI699/FinalProject/code/FetchGoogleTrends.ipynb#W2sdnNjb2RlLXJlbW90ZQ%3D%3D?line=6'>7</a>\u001b[0m \u001b[39mprint\u001b[39m(\u001b[39mf\u001b[39m\u001b[39m\"\u001b[39m\u001b[39m{\u001b[39;00mstart_time\u001b[39m}\u001b[39;00m\u001b[39m \u001b[39m\u001b[39m{\u001b[39;00mend_time\u001b[39m}\u001b[39;00m\u001b[39m\"\u001b[39m)\n\u001b[0;32m----> <a href='vscode-notebook-cell://wsl%2Bubuntu-20.04/home/panda/SI699/FinalProject/code/FetchGoogleTrends.ipynb#W2sdnNjb2RlLXJlbW90ZQ%3D%3D?line=7'>8</a>\u001b[0m pytrends\u001b[39m.\u001b[39;49mbuild_payload(kw_list, cat\u001b[39m=\u001b[39;49m\u001b[39m0\u001b[39;49m, timeframe\u001b[39m=\u001b[39;49m\u001b[39mf\u001b[39;49m\u001b[39m\"\u001b[39;49m\u001b[39m{\u001b[39;49;00mstart_time\u001b[39m}\u001b[39;49;00m\u001b[39m \u001b[39;49m\u001b[39m{\u001b[39;49;00mend_time\u001b[39m}\u001b[39;49;00m\u001b[39m\"\u001b[39;49m, geo\u001b[39m=\u001b[39;49m\u001b[39m\"\u001b[39;49m\u001b[39mUS\u001b[39;49m\u001b[39m\"\u001b[39;49m)\n\u001b[1;32m      <a href='vscode-notebook-cell://wsl%2Bubuntu-20.04/home/panda/SI699/FinalProject/code/FetchGoogleTrends.ipynb#W2sdnNjb2RlLXJlbW90ZQ%3D%3D?line=8'>9</a>\u001b[0m result \u001b[39m=\u001b[39m pytrends\u001b[39m.\u001b[39minterest_by_region(resolution\u001b[39m=\u001b[39m\u001b[39m\"\u001b[39m\u001b[39mDMA\u001b[39m\u001b[39m\"\u001b[39m, inc_low_vol\u001b[39m=\u001b[39m\u001b[39mTrue\u001b[39;00m, inc_geo_code\u001b[39m=\u001b[39m\u001b[39mTrue\u001b[39;00m)\n\u001b[1;32m     <a href='vscode-notebook-cell://wsl%2Bubuntu-20.04/home/panda/SI699/FinalProject/code/FetchGoogleTrends.ipynb#W2sdnNjb2RlLXJlbW90ZQ%3D%3D?line=9'>10</a>\u001b[0m \u001b[39mbreak\u001b[39;00m\n",
      "File \u001b[0;32m~/.local/lib/python3.8/site-packages/pytrends/request.py:189\u001b[0m, in \u001b[0;36mTrendReq.build_payload\u001b[0;34m(self, kw_list, cat, timeframe, geo, gprop)\u001b[0m\n\u001b[1;32m    187\u001b[0m \u001b[39mself\u001b[39m\u001b[39m.\u001b[39mtoken_payload[\u001b[39m'\u001b[39m\u001b[39mreq\u001b[39m\u001b[39m'\u001b[39m] \u001b[39m=\u001b[39m json\u001b[39m.\u001b[39mdumps(\u001b[39mself\u001b[39m\u001b[39m.\u001b[39mtoken_payload[\u001b[39m'\u001b[39m\u001b[39mreq\u001b[39m\u001b[39m'\u001b[39m])\n\u001b[1;32m    188\u001b[0m \u001b[39m# get tokens\u001b[39;00m\n\u001b[0;32m--> 189\u001b[0m \u001b[39mself\u001b[39;49m\u001b[39m.\u001b[39;49m_tokens()\n\u001b[1;32m    190\u001b[0m \u001b[39mreturn\u001b[39;00m\n",
      "File \u001b[0;32m~/.local/lib/python3.8/site-packages/pytrends/request.py:195\u001b[0m, in \u001b[0;36mTrendReq._tokens\u001b[0;34m(self)\u001b[0m\n\u001b[1;32m    193\u001b[0m \u001b[39m\"\"\"Makes request to Google to get API tokens for interest over time, interest by region and related queries\"\"\"\u001b[39;00m\n\u001b[1;32m    194\u001b[0m \u001b[39m# make the request and parse the returned json\u001b[39;00m\n\u001b[0;32m--> 195\u001b[0m widget_dicts \u001b[39m=\u001b[39m \u001b[39mself\u001b[39;49m\u001b[39m.\u001b[39;49m_get_data(\n\u001b[1;32m    196\u001b[0m     url\u001b[39m=\u001b[39;49mTrendReq\u001b[39m.\u001b[39;49mGENERAL_URL,\n\u001b[1;32m    197\u001b[0m     method\u001b[39m=\u001b[39;49mTrendReq\u001b[39m.\u001b[39;49mGET_METHOD,\n\u001b[1;32m    198\u001b[0m     params\u001b[39m=\u001b[39;49m\u001b[39mself\u001b[39;49m\u001b[39m.\u001b[39;49mtoken_payload,\n\u001b[1;32m    199\u001b[0m     trim_chars\u001b[39m=\u001b[39;49m\u001b[39m4\u001b[39;49m,\n\u001b[1;32m    200\u001b[0m )[\u001b[39m'\u001b[39m\u001b[39mwidgets\u001b[39m\u001b[39m'\u001b[39m]\n\u001b[1;32m    201\u001b[0m \u001b[39m# order of the json matters...\u001b[39;00m\n\u001b[1;32m    202\u001b[0m first_region_token \u001b[39m=\u001b[39m \u001b[39mTrue\u001b[39;00m\n",
      "\u001b[1;32m/home/panda/SI699/FinalProject/code/FetchGoogleTrends.ipynb 单元格 2\u001b[0m in \u001b[0;36mTrendReq._get_data\u001b[0;34m(self, url, method, trim_chars, **kwargs)\u001b[0m\n\u001b[1;32m     <a href='vscode-notebook-cell://wsl%2Bubuntu-20.04/home/panda/SI699/FinalProject/code/FetchGoogleTrends.ipynb#W2sdnNjb2RlLXJlbW90ZQ%3D%3D?line=29'>30</a>\u001b[0m \u001b[39mdef\u001b[39;00m \u001b[39m_get_data\u001b[39m(\u001b[39mself\u001b[39m, url, method\u001b[39m=\u001b[39m\u001b[39m\"\u001b[39m\u001b[39mget\u001b[39m\u001b[39m\"\u001b[39m, trim_chars\u001b[39m=\u001b[39m\u001b[39m0\u001b[39m, \u001b[39m*\u001b[39m\u001b[39m*\u001b[39mkwargs):\n\u001b[0;32m---> <a href='vscode-notebook-cell://wsl%2Bubuntu-20.04/home/panda/SI699/FinalProject/code/FetchGoogleTrends.ipynb#W2sdnNjb2RlLXJlbW90ZQ%3D%3D?line=30'>31</a>\u001b[0m     \u001b[39mreturn\u001b[39;00m \u001b[39msuper\u001b[39;49m()\u001b[39m.\u001b[39;49m_get_data(url, method\u001b[39m=\u001b[39;49mmethod, trim_chars\u001b[39m=\u001b[39;49mtrim_chars, headers\u001b[39m=\u001b[39;49mheaders, \u001b[39m*\u001b[39;49m\u001b[39m*\u001b[39;49mkwargs)\n",
      "File \u001b[0;32m~/.local/lib/python3.8/site-packages/pytrends/request.py:159\u001b[0m, in \u001b[0;36mTrendReq._get_data\u001b[0;34m(self, url, method, trim_chars, **kwargs)\u001b[0m\n\u001b[1;32m    157\u001b[0m \u001b[39melse\u001b[39;00m:\n\u001b[1;32m    158\u001b[0m     \u001b[39mif\u001b[39;00m response\u001b[39m.\u001b[39mstatus_code \u001b[39m==\u001b[39m status_codes\u001b[39m.\u001b[39mcodes\u001b[39m.\u001b[39mtoo_many_requests:\n\u001b[0;32m--> 159\u001b[0m         \u001b[39mraise\u001b[39;00m exceptions\u001b[39m.\u001b[39mTooManyRequestsError\u001b[39m.\u001b[39mfrom_response(response)\n\u001b[1;32m    160\u001b[0m     \u001b[39mraise\u001b[39;00m exceptions\u001b[39m.\u001b[39mResponseError\u001b[39m.\u001b[39mfrom_response(response)\n",
      "\u001b[0;31mTooManyRequestsError\u001b[0m: The request failed: Google returned a response with code 429"
     ]
    }
   ],
   "source": [
    "pytrends = TrendReq(geo=\"US\")\n",
    "start_date = \"20230206\"\n",
    "end_date = \"20230207\"\n",
    "for date in pd.date_range(start_date, end_date):\n",
    "    start_time = date.strftime(\"%Y-%m-%d\")\n",
    "    end_time = (date + pd.Timedelta(1, \"day\")).strftime(\"%Y-%m-%d\")\n",
    "    print(f\"{start_time} {end_time}\")\n",
    "    pytrends.build_payload(kw_list, cat=0, timeframe=f\"{start_time} {end_time}\", geo=\"US\")\n",
    "    result = pytrends.interest_by_region(resolution=\"DMA\", inc_low_vol=True, inc_geo_code=True)\n",
    "    break"
   ]
  },
  {
   "cell_type": "code",
   "execution_count": null,
   "metadata": {},
   "outputs": [],
   "source": []
  }
 ],
 "metadata": {
  "kernelspec": {
   "display_name": "699",
   "language": "python",
   "name": "python3"
  },
  "language_info": {
   "codemirror_mode": {
    "name": "ipython",
    "version": 3
   },
   "file_extension": ".py",
   "mimetype": "text/x-python",
   "name": "python",
   "nbconvert_exporter": "python",
   "pygments_lexer": "ipython3",
   "version": "3.8.5"
  },
  "orig_nbformat": 4
 },
 "nbformat": 4,
 "nbformat_minor": 2
}
