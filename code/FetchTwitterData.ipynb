{
 "cells": [
  {
   "cell_type": "code",
   "execution_count": 17,
   "metadata": {},
   "outputs": [],
   "source": [
    "import datetime as dt\n",
    "import json\n",
    "\n",
    "import pandas as pd\n",
    "\n",
    "from TwitterAPI import TwitterAPI"
   ]
  },
  {
   "cell_type": "code",
   "execution_count": 2,
   "metadata": {},
   "outputs": [],
   "source": [
    "with open(\"../config/TwitterAPI.json\") as f:\n",
    "    config = json.loads(f.read())\n",
    "\n",
    "api = TwitterAPI(config[\"main\"])"
   ]
  },
  {
   "cell_type": "code",
   "execution_count": 21,
   "metadata": {},
   "outputs": [
    {
     "name": "stdout",
     "output_type": "stream",
     "text": [
      "20230203\n",
      "20230204\n",
      "20230205\n",
      "20230206\n",
      "20230207\n",
      "20230208\n",
      "20230209\n",
      "20230210\n",
      "20230211\n",
      "20230212\n"
     ]
    }
   ],
   "source": [
    "start_date = \"20230203\"\n",
    "end_date = \"20230213\"\n",
    "params = {\"geo\": \"place_id\"}\n",
    "query = '(#Derailment OR \"Vinyl chloride\" OR \"East Palestine\")'\n",
    "for date in pd.date_range(start_date, end_date):\n",
    "    start_time = date.strftime(\"%Y%m%d\")\n",
    "    print(start_time)\n",
    "    end_time = (date + pd.Timedelta(1, \"day\")).strftime(\"%Y%m%d\")\n",
    "    result = api.search_tweets(query, params=params, start_time=start_time, end_time=end_time) \n",
    "    result.to_pickle(f\"../data/{start_time}_data.pkl\", compression=\"gzip\")"
   ]
  }
 ],
 "metadata": {
  "kernelspec": {
   "display_name": "699",
   "language": "python",
   "name": "python3"
  },
  "language_info": {
   "codemirror_mode": {
    "name": "ipython",
    "version": 3
   },
   "file_extension": ".py",
   "mimetype": "text/x-python",
   "name": "python",
   "nbconvert_exporter": "python",
   "pygments_lexer": "ipython3",
   "version": "3.8.5"
  },
  "orig_nbformat": 4
 },
 "nbformat": 4,
 "nbformat_minor": 2
}
