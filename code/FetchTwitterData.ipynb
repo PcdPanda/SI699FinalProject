{
 "cells": [
  {
   "cell_type": "code",
   "execution_count": 1,
   "metadata": {},
   "outputs": [],
   "source": [
    "import json\n",
    "\n",
    "import pandas as pd\n",
    "\n",
    "from TwitterAPI import TwitterAPI"
   ]
  },
  {
   "cell_type": "code",
   "execution_count": 2,
   "metadata": {},
   "outputs": [],
   "source": [
    "with open(\"../config/TwitterAPI.json\") as f:\n",
    "    config = json.loads(f.read())\n",
    "\n",
    "api = TwitterAPI(config[\"main\"])"
   ]
  },
  {
   "cell_type": "code",
   "execution_count": null,
   "metadata": {},
   "outputs": [],
   "source": [
    "start_date = \"20230203\"\n",
    "end_date = \"20230309\"\n",
    "params = {\"geo\": \"place_id\"}\n",
    "query = '(#Derailment OR \"Vinyl chloride\" OR \"East Palestine\")'\n",
    "for date in pd.date_range(start_date, end_date):\n",
    "    start_time = date.strftime(\"%Y%m%d\")\n",
    "    end_time = (date + pd.Timedelta(1, \"day\")).strftime(\"%Y%m%d\")\n",
    "    result = api.search_tweets(query, params=params, start_time=start_time, end_time=end_time) \n",
    "    result.to_pickle(f\"../data/{start_time}_data.pkl\", compression=\"gzip\")"
   ]
  },
  {
   "cell_type": "code",
   "execution_count": null,
   "metadata": {},
   "outputs": [],
   "source": [
    "start_date = \"20230203\"\n",
    "end_date = \"20230309\"\n",
    "dfs = list()\n",
    "for date in pd.date_range(start_date, end_date):\n",
    "    date = date.strftime(\"%Y%m%d\")\n",
    "    df = pd.read_pickle(f\"../data/{date}_data.pkl\", compression=\"gzip\")[[\"text\", \"id\", \"author_id\", \"created_at\"]]\n",
    "    df[\"created_at\"] = pd.to_datetime(df[\"created_at\"])\n",
    "    dfs.append(df)\n"
   ]
  },
  {
   "cell_type": "code",
   "execution_count": null,
   "metadata": {},
   "outputs": [],
   "source": [
    "dfs.to_csv(\"../data/RelatedTweets.csv\")"
   ]
  }
 ],
 "metadata": {
  "kernelspec": {
   "display_name": "699",
   "language": "python",
   "name": "python3"
  },
  "language_info": {
   "codemirror_mode": {
    "name": "ipython",
    "version": 3
   },
   "file_extension": ".py",
   "mimetype": "text/x-python",
   "name": "python",
   "nbconvert_exporter": "python",
   "pygments_lexer": "ipython3",
   "version": "3.8.5"
  },
  "orig_nbformat": 4
 },
 "nbformat": 4,
 "nbformat_minor": 2
}
