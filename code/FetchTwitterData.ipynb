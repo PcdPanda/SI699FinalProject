{
 "cells": [
  {
   "cell_type": "code",
   "execution_count": 56,
   "metadata": {},
   "outputs": [],
   "source": [
    "import json\n",
    "\n",
    "import pandas as pd\n",
    "\n",
    "from TwitterAPI import TwitterAPI"
   ]
  },
  {
   "cell_type": "code",
   "execution_count": 57,
   "metadata": {},
   "outputs": [],
   "source": [
    "with open(\"../config/TwitterAPI.json\") as f:\n",
    "    config = json.loads(f.read())\n",
    "\n",
    "api = TwitterAPI(config[\"main\"])"
   ]
  },
  {
   "cell_type": "code",
   "execution_count": 58,
   "metadata": {},
   "outputs": [],
   "source": [
    "start_date = \"20230203\"\n",
    "end_date = \"20230309\"\n",
    "query = 'has:geo (#Derailment OR \"Vinyl chloride\" OR \"East Palestine\")'\n",
    "\n",
    "\n",
    "def get_tweet_geo(start_date: str, end_date: str, query: str):\n",
    "    params = {\"geo\": \"place_id\"}\n",
    "    df_raw = api.search_tweets(query, params=params, start_time=start_date, end_time=end_date) \n",
    "    df_tweets = df_raw.copy(deep=True)\n",
    "    df_tweets[\"Date\"] = pd.to_datetime(df_tweets[\"created_at\"]).dt.strftime(\"%Y%m%d\")\n",
    "    df_tweets[\"geo\"] = df_tweets[\"geo\"].apply(lambda x:x[\"place_id\"])\n",
    "    df_tweets[\"text\"] = api.parse_tweet(df_tweets[\"text\"])\n",
    "    df_tweets = df_tweets.set_index([\"Date\"])[[\"id\", \"text\", \"geo\", \"author_id\"]]\n",
    "    return df_tweets\n",
    "\n",
    "df_tweets = get_tweet_geo(start_date, end_date, query)"
   ]
  },
  {
   "cell_type": "code",
   "execution_count": 96,
   "metadata": {},
   "outputs": [
    {
     "name": "stderr",
     "output_type": "stream",
     "text": [
      "/tmp/ipykernel_9447/4136107965.py:276: FutureWarning: The default value of regex will change from True to False in a future version.\n",
      "  series = series.str.replace(r\"(@[\\w|\\d]+|\\#[\\w|\\d]+|https\\S+)\", \" \")\n",
      "/tmp/ipykernel_9447/4136107965.py:278: FutureWarning: The default value of regex will change from True to False in a future version.\n",
      "  series = series.str.replace(s, \"\")\n",
      "/tmp/ipykernel_9447/4136107965.py:279: FutureWarning: The default value of regex will change from True to False in a future version.\n",
      "  return series.str.replace(r\"\\s+\", \" \")\n"
     ]
    }
   ],
   "source": [
    "start_date = \"20230203\"\n",
    "end_date = \"20230309\"\n",
    "params = {\"geo\": \"place_id\"}\n",
    "query = 'has:geo (#Derailment OR \"Vinyl chloride\" OR \"East Palestine\")'\n",
    "df_geo = api.search_tweets(query, params=params, start_time=start_date, end_time=end_date) \n",
    "df_geo.to_pickle(\"../data/raw_data/geo_tweet.pkl\", compression=\"gzip\")\n",
    "df_geo[\"Date\"] = pd.to_datetime(df_geo[\"created_at\"]).dt.strftime(\"%Y%m%d\")\n",
    "df_geo[\"geo\"] = df_geo[\"geo\"].apply(lambda x:x[\"place_id\"])\n",
    "df_geo[\"text\"] = api.parse_tweet(df_geo[\"text\"])\n",
    "df_geo = df_geo.set_index([\"Date\"])[[\"id\", \"text\", \"geo\", \"author_id\"]]"
   ]
  },
  {
   "cell_type": "code",
   "execution_count": null,
   "metadata": {},
   "outputs": [],
   "source": [
    "start_date = \"20230203\"\n",
    "end_date = \"20230309\"\n",
    "params = {\"geo\": \"place_id\"}\n",
    "query = '(#Derailment OR \"Vinyl chloride\" OR \"East Palestine\")'\n",
    "for date in pd.date_range(start_date, end_date):\n",
    "    start_time = date.strftime(\"%Y%m%d\")\n",
    "    end_time = (date + pd.Timedelta(1, \"day\")).strftime(\"%Y%m%d\")\n",
    "    result = api.search_tweets(query, params=params, start_time=start_time, end_time=end_time) \n",
    "    result.to_pickle(f\"../data/{start_time}_data.pkl\", compression=\"gzip\")"
   ]
  },
  {
   "cell_type": "code",
   "execution_count": 11,
   "metadata": {},
   "outputs": [],
   "source": [
    "start_date = \"20230203\"\n",
    "end_date = \"20230309\"\n",
    "dfs = list()\n",
    "for date in pd.date_range(start_date, end_date):\n",
    "    date = date.strftime(\"%Y%m%d\")\n",
    "    df = pd.read_pickle(f\"../data/raw_data/{date}_data.pkl\", compression=\"gzip\")[[\"text\", \"id\", \"author_id\", \"created_at\"]]\n",
    "    df[\"created_at\"] = pd.to_datetime(df[\"created_at\"])\n",
    "    dfs.append(df)\n",
    "dfs = pd.concat(dfs)\n",
    "dfs.index = pd.DatetimeIndex(dfs[\"created_at\"]).strftime(\"%Y%m%d\")\n",
    "dfs = dfs.drop([\"created_at\"], axis=1)\n",
    "dfs.index.name = \"Date\"\n",
    "dfs[\"text\"] = TwitterAPI.parse_tweet(dfs[\"text\"])\n",
    "dfs.to_csv(\"../data/RelatedTweets.csv\", sep=\"\\t\")"
   ]
  }
 ],
 "metadata": {
  "kernelspec": {
   "display_name": "699",
   "language": "python",
   "name": "python3"
  },
  "language_info": {
   "codemirror_mode": {
    "name": "ipython",
    "version": 3
   },
   "file_extension": ".py",
   "mimetype": "text/x-python",
   "name": "python",
   "nbconvert_exporter": "python",
   "pygments_lexer": "ipython3",
   "version": "3.8.5"
  },
  "orig_nbformat": 4
 },
 "nbformat": 4,
 "nbformat_minor": 2
}
